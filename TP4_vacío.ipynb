{
  "cells": [
    {
      "cell_type": "markdown",
      "metadata": {
        "id": "view-in-github",
        "colab_type": "text"
      },
      "source": [
        "<a href=\"https://colab.research.google.com/github/sebastianmunozvasq/CFD/blob/main/TP4_vac%C3%ADo.ipynb\" target=\"_parent\"><img src=\"https://colab.research.google.com/assets/colab-badge.svg\" alt=\"Open In Colab\"/></a>"
      ]
    },
    {
      "cell_type": "markdown",
      "id": "edf09927",
      "metadata": {
        "id": "edf09927"
      },
      "source": [
        "###  Trabajo práctico Módulo 4\n",
        "\n",
        "## Protocolo de emergencia frente a una reacción de fusión nuclear descontrolada\n",
        "\n",
        "#### MOOC: Transferencia de Calor y Masa Computacional\n",
        "\n",
        "Imagine que usted trabaja en el laboratorio Nacional de Los Álamos en un proyecto que busca obtener cantidades sin precedentes de energía mediante fusión nuclear. Usted está a cargo del protocolo de seguridad experimental frente a una reacción nuclear descontrolada. En particular, se le pide que diseñe un sistema de mitigación de calor en caso de una reacción nuclear descontrolada.\n",
        "\n",
        "La Figura 1 una esfera de 16 cm de radio que contiene 1 kg de la mezcla Deuterio-Tritio. A partir de una nueva tecnología de campos gravitacionales, los experimentalistas afirman que lograron realizar una reacción controlada de fusión a 600°C. Sin embargo, si el enfriamiento falla, la temperatura de la esfera aumentará producto de la reacción de fusión.\n",
        "\n",
        "<div>\n",
        "  <img src=\"/figs/fig1_DT_TP4.png\" width=\"600\"/>\n",
        "  <figcaption>Figura 1: Protocolo de seguridad para esfera Deuterio-Tritio</figcaption>\n",
        "</div>\n",
        "\n",
        "\n",
        "Este aumento de temperatura es muy rápido y se puede modelar como un término volumétrico de generación de calor:\n",
        "\n",
        "\n",
        "$$ S = 1 \\text{MW}/\\text{m}^3 $$\n",
        "\n",
        " En caso de llegar a 1100°C, la fusión se volverá descontrolada y todo el laboratorio nacional se desintegraría en segundos junto a todo su personal.\n",
        "\n",
        "La ecuación de conservación de energía dentro de la esfera es\n",
        "\n",
        "$$ \\rho_1 \\hat{c}_{p}\\frac{\\partial T}{\\partial t} = \\frac{k}{r^2} \\frac{\\partial}{\\partial r} \\left(r^2 \\frac{\\partial T}{\\partial r} \\right) + S, \\hspace{2cm} 0 < r < R_1 $$\n",
        "\n",
        "En $r=0$, el perfil de temperatura es simétrico lo que se traduce en la siguiente condición de borde:\n",
        "\n",
        "$$ \\frac{\\partial T}{\\partial r}|_{r=0} = 0 $$\n",
        "\n",
        "El protocolo de seguridad actual consiste en lanzar la esfera a un receptáculo muy grande con agua con hielo. En una emergencia, esto produciría la evaporación súbita del agua adyacente a la esfera. En $r=R$, existe enfriamiento de la superficie de la esfera por evaporación de película. Esto se traduce en la siguiente condición de borde:\n",
        "\n",
        "$$ -k \\frac{\\partial T}{\\partial r}|_{r=R} = h(T|_{r=R} - T_\\infty) $$\n",
        "\n",
        "El sistema actual está configurado con las siguientes propiedades termofísicas:\n",
        "\n",
        "#### Esfera de material compuesto poroso con Deuterio-Tritio:\n",
        "* Conductividad térmica: $ k_1 = 10 \\text{ W/mK}$\n",
        "* Calor específico: $\\hat{c}_p = 900 \\text{ J/kg/°C}$\n",
        "* La densidad se puede calcular a partir de los datos experimentales\n",
        "* Condiciones iniciales: $T(t=0) = 873.15 K $\n",
        "\n",
        "#### Transferencia de calor\n",
        "* Temperatura de ebullición del agua a presión atmosférica: $T_{\\infty} = 373.15 K$\n",
        "* Coeficiente de transferencia de calor por cambio de fase: $h = 10000 \\text{W}/\\text{m}^2/\\text{K}$\n",
        "\n",
        "Se le solicita evaluar si el sistema de seguridad es suficiente para prevenir que la temperatura en cualquier punto y momento sea inferior a 1100°C."
      ]
    },
    {
      "cell_type": "markdown",
      "id": "739eeff7",
      "metadata": {
        "id": "739eeff7"
      },
      "source": [
        "#### Parte 1. Discretice la EDP utilizando diferencias finitas de segundo orden y el método FTCS"
      ]
    },
    {
      "cell_type": "markdown",
      "id": "068c836b",
      "metadata": {
        "id": "068c836b"
      },
      "source": [
        "#### 1.1 Discretice los nodos interiores, utilizando:\n",
        "* Diferencias finitas hacia adelante de primer orden en el tiempo para la derivada temporal\n",
        "* Diferencias finitas centrales de segundo orden en el espacio para las derivadas espaciales"
      ]
    },
    {
      "cell_type": "markdown",
      "id": "5c46dcf2",
      "metadata": {
        "id": "5c46dcf2"
      },
      "source": [
        "#### 1.2 Encuentre los coeficientes de la matriz A en la ecuación de evolución"
      ]
    },
    {
      "cell_type": "markdown",
      "id": "32c735c5",
      "metadata": {
        "id": "32c735c5"
      },
      "source": [
        "#### 1.3) Discretice las condiciones de borde\n",
        "* Utilice diferencias finitas hacia adelante o atrás, según corresponda, de segundo orden.\n",
        "* Se le recomienda despejar las temperaturas del nodo inicial $T^{t+1}_0$ y el nodo final $T_N^{t}$ en función de los nodos adyacentes.\n",
        "* Esto le permitirá implementar el método de manera más sencilla.\n",
        "* En esta implementación, usted deberá dejar la primera y última fila de la matriz de coeficientes A vacía, así como también el primer y último elemento del vector $\\mathbf{b}$ vacío."
      ]
    },
    {
      "cell_type": "markdown",
      "id": "0b8677b5",
      "metadata": {
        "id": "0b8677b5"
      },
      "source": [
        "### Parte 2) Implementación del método numérico"
      ]
    },
    {
      "cell_type": "markdown",
      "id": "13247219",
      "metadata": {
        "id": "13247219"
      },
      "source": [
        "#### 2.1 - Importar módulos"
      ]
    },
    {
      "cell_type": "code",
      "execution_count": null,
      "id": "c830b3ce",
      "metadata": {
        "id": "c830b3ce"
      },
      "outputs": [],
      "source": [
        "# Cálculos numéricos\n",
        "import numpy as np\n",
        "\n",
        "# Gráficos\n",
        "import matplotlib.pyplot as plt\n",
        "\n",
        "# Mapas de colores\n",
        "from matplotlib import cm"
      ]
    },
    {
      "cell_type": "markdown",
      "id": "ff5af272",
      "metadata": {
        "id": "ff5af272"
      },
      "source": [
        "#### 2.2 Declaración de parámetros físicos"
      ]
    },
    {
      "cell_type": "markdown",
      "id": "7c3f3eb0",
      "metadata": {
        "id": "7c3f3eb0"
      },
      "source": [
        "* Defina las propiedades termofísicas del problema\n",
        "* Calcule la densidad de la esfera interna\n",
        "* Calcule la difusividad térmica"
      ]
    },
    {
      "cell_type": "markdown",
      "id": "ee99e7c8",
      "metadata": {
        "id": "ee99e7c8"
      },
      "source": [
        "#### 2.3 Definición de los parámetros de grilla y computacionales\n",
        "\n",
        "Se le solicita resolver el problema considerando los siguientes parámetros:\n",
        "\n",
        "* 100 nodos en la dirección radial\n",
        "* Un paso de tiempo que corresponda a un Número de Fourier computacional igual a 0.45,\n",
        "$$\\text{Fo}_c = 0.45$$"
      ]
    },
    {
      "cell_type": "code",
      "execution_count": null,
      "id": "9ac2b39e",
      "metadata": {
        "id": "9ac2b39e"
      },
      "outputs": [],
      "source": [
        "R = 0.16  # Radio de la esfera en metros\n",
        "V = (4/3) * np.pi * R**3  # Volumen de la esfera\n",
        "m = 1  # Masa de la esfera en kg\n",
        "rho = m / V  # Densidad de la esfera\n",
        "k = 10  # Conductividad térmica en W/mK\n",
        "c_p = 900  # Calor específico en J/kg/K\n",
        "S = 1e6  # Fuente de calor en W/m^3\n",
        "h = 10000  # Coeficiente de transferencia de calor en W/m^2/K\n",
        "T0 = 873.15  # Temperatura inicial en K\n",
        "T_inf = 373.15  # Temperatura del sumidero de calor en K\n",
        "Nr = 100  # Número de nodos espaciales\n",
        "\n",
        "T_max_allowed=1100\n",
        "\n",
        "# Crear un dominio discretizado\n",
        "r = np.linspace(0, R, Nr)  # Dominio radial desde 0 hasta R (0.16 metros)\n",
        "dr = r[1] - r[0]  # Paso espacial\n",
        "\n",
        "# Calcular la difusividad térmica\n",
        "alpha = k / (rho * c_p)  # Difusividad térmica\n",
        "Fo_c = 0.45  # Número de Fourier computacional\n",
        "dt = Fo_c * dr**2 / alpha  # Paso temporal\n",
        "\n",
        "\n",
        "# Construcción de matriz A y vector del lado derecho\n",
        "A = np.zeros((Nr, Nr))\n",
        "b = np.zeros(Nr)\n",
        "\n",
        "# Condición de borde en r = 0\n",
        "A[0, 0] = 1\n",
        "A[0, 1] = -1\n",
        "b[0] = 0\n",
        "\n",
        "# Condición de borde en r = R\n",
        "A[-1, -1] = k / dr + h\n",
        "A[-1, -2] = -k / dr\n",
        "b[-1] = h * T_inf\n",
        "\n"
      ]
    },
    {
      "cell_type": "markdown",
      "id": "0ac4e367",
      "metadata": {
        "id": "0ac4e367"
      },
      "source": [
        "#### 2.4 Rellenar matriz A - nodos interiores"
      ]
    },
    {
      "cell_type": "code",
      "execution_count": null,
      "id": "ca5391fd",
      "metadata": {
        "id": "ca5391fd"
      },
      "outputs": [],
      "source": [
        "# Iteración en nodos interiores\n",
        "for i in range(1, Nr - 1):\n",
        "    A[i, i - 1] = k / (rho * c_p * dr**2) - k / (rho * c_p * 2 * r[i] * dr)\n",
        "    A[i, i] = -2 * k / (rho * c_p * dr**2)\n",
        "    A[i, i + 1] = k / (rho * c_p * dr**2) + k / (rho * c_p * 2 * r[i] * dr)\n",
        "    b[i] = S / (rho * c_p)\n"
      ]
    },
    {
      "cell_type": "markdown",
      "id": "69dbe3b4",
      "metadata": {
        "id": "69dbe3b4"
      },
      "source": [
        "#### 2.5 - Definir parámetros FTCS"
      ]
    },
    {
      "cell_type": "code",
      "execution_count": null,
      "id": "f6b70446",
      "metadata": {
        "id": "f6b70446",
        "scrolled": false
      },
      "outputs": [],
      "source": [
        "# Tiempo inicial de integración\n",
        "t_initial = 0  # segundos\n",
        "\n",
        "# Tiempo final de integración: debe ser adecuado para responder las preguntas del enunciado\n",
        "t_final = 5  # segundos (ajustable)\n",
        "\n",
        "# Grabe los resultados después de una fracción que estime conveniente. Por ejemplo, t = 3 s:\n",
        "record_interval = 1  # segundos para grabar resultados\n"
      ]
    },
    {
      "cell_type": "markdown",
      "id": "163428ff",
      "metadata": {
        "id": "163428ff"
      },
      "source": [
        "#### 2.6 Implementar el algoritmo FTCS"
      ]
    },
    {
      "cell_type": "code",
      "execution_count": null,
      "id": "e2f9a096",
      "metadata": {
        "id": "e2f9a096"
      },
      "outputs": [],
      "source": [
        "## Algoritmo FTCS\n",
        "\n",
        "# Se sugiere que usted defina una función, pero no es estrictamente necesario\n",
        "\n",
        "# Definición de función\n",
        "def FTCS(A, b, t_initial, t_final, record_interval):\n",
        "    time_results = []\n",
        "    t_current = t_initial\n",
        "    T = np.ones(Nr) * T0\n",
        "    T_copy = np.copy(T)\n",
        "    T_max_history = T0\n",
        "    temperature_results = []\n",
        "\n",
        "    while t_current < t_final:\n",
        "        T_new = T + dt * (np.dot(A, T) + b)\n",
        "        t_current += dt\n",
        "        T_new[0] = T_new[1]  # Condición de borde en r = 0\n",
        "        T_new[-1] = (k * T_new[-2] + h * dr * T_inf) / (k + h * dr)  # Condición de borde en r = R\n",
        "        T_max_current = np.max(T_new)\n",
        "\n",
        "        # Verificar si la temperatura máxima excede el límite permitido\n",
        "        if T_max_current >= T_max_allowed:\n",
        "            print(f\"Temperatura máxima excedida: {T_max_current} K. Terminando la simulación.\")\n",
        "            break\n",
        "\n",
        "        if T_max_current > T_max_history:\n",
        "            T_max_history = T_max_current\n",
        "            time_results.append(t_current)\n",
        "            temperature_results.append(np.copy(T_new))\n",
        "\n",
        "        T = np.copy(T_new)\n",
        "\n",
        "        if t_current % record_interval < dt:\n",
        "            time_results.append(t_current)\n",
        "            temperature_results.append(np.copy(T))\n",
        "\n",
        "    return time_results, temperature_results, T_max_history"
      ]
    },
    {
      "cell_type": "markdown",
      "id": "f5dcfa4a",
      "metadata": {
        "id": "f5dcfa4a"
      },
      "source": [
        "### Preguntas quiz"
      ]
    },
    {
      "cell_type": "markdown",
      "id": "2b6ff3e4",
      "metadata": {
        "id": "2b6ff3e4"
      },
      "source": [
        "#### P1) Calcule la temperatura en K en el centro de la esfera después de 5 segundos de haber iniciado el protocolo de seguridad"
      ]
    },
    {
      "cell_type": "code",
      "execution_count": null,
      "id": "46437080",
      "metadata": {
        "colab": {
          "base_uri": "https://localhost:8080/"
        },
        "id": "46437080",
        "outputId": "5d56701a-54b8-47eb-dea9-7606325b20e8"
      },
      "outputs": [
        {
          "output_type": "stream",
          "name": "stdout",
          "text": [
            "Temperatura en el centro de la esfera a los 5 segundos: 967.372110123629 K\n"
          ]
        }
      ],
      "source": [
        "# Resuelva la iteración para 5 segundos\n",
        "t_final=5\n",
        "(time_results, temperature_results, T_max_history) = FTCS(A, b, t_initial, t_final, record_interval)\n",
        "# Imprima la temperatura en el centro de la esfera\n",
        "# Temperatura en el centro de la esfera\n",
        "print(f\"Temperatura en el centro de la esfera a los 5 segundos: {temperature_results[-1][0]} K\")"
      ]
    },
    {
      "cell_type": "markdown",
      "id": "95d0a717",
      "metadata": {
        "id": "95d0a717"
      },
      "source": [
        "#### P2) Encuentre el flujo de calor en W removido de la esfera por el sumidero de calor después de 24 segundos de haber iniciado el protocolo de seguridad"
      ]
    },
    {
      "cell_type": "markdown",
      "id": "b6c02db5",
      "metadata": {
        "id": "b6c02db5"
      },
      "source": [
        "Calculamos el flujo de calor que sale de la esfera a los 24 segundos:"
      ]
    },
    {
      "cell_type": "markdown",
      "id": "b11dce46",
      "metadata": {
        "id": "b11dce46"
      },
      "source": [
        "$$\\dot{Q} = 4 \\pi R^2 h (T|_{N_R}(t=24 s)-T_{\\infty}) $$"
      ]
    },
    {
      "cell_type": "code",
      "execution_count": null,
      "id": "b502c2c6",
      "metadata": {
        "colab": {
          "base_uri": "https://localhost:8080/"
        },
        "id": "b502c2c6",
        "scrolled": true,
        "outputId": "c7f57639-4168-4804-8be4-dabeffd92552"
      },
      "outputs": [
        {
          "output_type": "stream",
          "name": "stdout",
          "text": [
            "Temperatura de la pared a los 24 segundos: 381.368027581205 K\n",
            "Flujo de calor removido de la esfera a los 24 segundos: 26437.319757938723 W\n"
          ]
        }
      ],
      "source": [
        "# Resuelva para 24 segundos\n",
        "t_final=24\n",
        "(time_results, temperature_results, T_max_history) = FTCS(A, b, t_initial, t_final, record_interval)\n",
        "# Extraiga la temperatura de la pared\n",
        "print(f\"Temperatura de la pared a los 24 segundos: {temperature_results[-1][-1]} K\")\n",
        "\n",
        "# Calcule e imprima el flujo de calor después de 24 segundos\n",
        "print(f\"Flujo de calor removido de la esfera a los 24 segundos: {4 * np.pi * R**2 * h * (temperature_results[-1][-1] - T_inf)} W\")\n"
      ]
    },
    {
      "cell_type": "markdown",
      "id": "991f3044",
      "metadata": {
        "id": "991f3044"
      },
      "source": [
        "#### P3 y P4) Encuentre la temperatura máxima de la esfera y el tiempo en que esta temperatura se alcanza\n",
        "\n",
        "Sugerencias:\n",
        "\n",
        "* Para sus cálculos, considere un tiempo de simulación lo suficientemente largo para asegurarse de que el perfil de temperatura llega a un estado estacionario.\n",
        "* Modifique la iteración FTCS para almacenar la temperatura máxima en un tiempo determinado y el tiempo en la que esta ocurra."
      ]
    },
    {
      "cell_type": "code",
      "execution_count": null,
      "id": "cfdc61bd",
      "metadata": {
        "colab": {
          "base_uri": "https://localhost:8080/"
        },
        "id": "cfdc61bd",
        "outputId": "63443371-d528-4f94-c40e-2b85402e4ccc"
      },
      "outputs": [
        {
          "output_type": "stream",
          "name": "stdout",
          "text": [
            "Temperatura máxima de la esfera: 1051.7685078619606 K\n",
            "Tiempo en que se alcanza la temperatura máxima: 18.305695740179814 s\n"
          ]
        }
      ],
      "source": [
        "# Resolvemos para un tiempo suficientemente largo a partir de los perfiles de temperatura\n",
        "t_final=200\n",
        "def FTCS_v2(A, b, t_initial, t_final, record_interval):\n",
        "    # Lista en que se acumulan los tiempos donde se graban los perfiles de temperatura\n",
        "    time_results = []\n",
        "    t_current = t_initial\n",
        "\n",
        "    # Inicializar vector que contiene la temperatura inicial de la esfera\n",
        "    T = np.ones(Nr) * T0\n",
        "\n",
        "    # Copie la temperatura T en otra variable, utilizando la función np.copy()\n",
        "    T_copy = np.copy(T)\n",
        "\n",
        "    # Inicializar temperatura máxima\n",
        "    T_max_history = T0\n",
        "    T_max_time = t_initial\n",
        "\n",
        "    # Lista con los perfiles de temperatura para cada write_interval\n",
        "    temperature_results = []\n",
        "\n",
        "    # Iteración de evolución\n",
        "    while t_current < t_final:\n",
        "        # Actualizar nodos interiores\n",
        "        T_new = T + dt * (np.dot(A, T) + b)\n",
        "\n",
        "        # Actualizar tiempo\n",
        "        t_current += dt\n",
        "\n",
        "        # Actualizar condiciones de borde\n",
        "        T_new[0] = T_new[1]  # Aplicar condición de borde en r = 0 (simetría radial)\n",
        "        T_new[-1] = (k * T_new[-2] + h * dr * T_inf) / (k + h * dr)  # Aplicar condición de borde en r = R\n",
        "\n",
        "        # Calcular la temperatura máxima en el tiempo actual\n",
        "        T_max_current = np.max(T_new)\n",
        "\n",
        "        # Guardar la temperatura y tiempo si se excede la temperatura máxima histórica\n",
        "        if T_max_current > T_max_history:\n",
        "            T_max_history = T_max_current\n",
        "            T_max_time = t_current\n",
        "            time_results.append(t_current)\n",
        "            temperature_results.append(np.copy(T_new))\n",
        "\n",
        "        # Crear una copia de la nueva temperatura\n",
        "        T = np.copy(T_new)\n",
        "\n",
        "        # Definir un control de flujo para guardar el perfil de temperatura\n",
        "        # cada vez que se cumpla un intervalo de tiempo previamente definido\n",
        "        if t_current % record_interval < dt:\n",
        "            # Guardamos el perfil de temperatura\n",
        "            time_results.append(t_current)\n",
        "            # Guardamos el tiempo\n",
        "            temperature_results.append(np.copy(T))\n",
        "\n",
        "    # Parámetros a retornar (en caso de definir una función)\n",
        "    return time_results, temperature_results, T_max_history, T_max_time\n",
        "\n",
        "(time_results, temperature_results, T_max_history, T_max_time) = FTCS_v2(A, b, t_initial, t_final, record_interval)\n",
        "print(f\"Temperatura máxima de la esfera: {T_max_history} K\")\n",
        "print(f\"Tiempo en que se alcanza la temperatura máxima: {T_max_time} s\")"
      ]
    },
    {
      "cell_type": "markdown",
      "id": "e3fe7be5",
      "metadata": {
        "id": "e3fe7be5"
      },
      "source": [
        "### P5) Calcule la temperatura promedio después de 3600 s\n",
        "\n",
        "Sugerencia: recuerde que el promedio de una función escalar en coordenadas cilíndricas es:\n",
        "\n",
        "$$ \\left\\langle T\\right\\rangle=\\frac{\\int_{0}^{2\\pi}\\int_{0}^{\\pi}\\int_{0}^{R}{T\\left(r\\right)r^2drd\\theta d\\varphi}}{\\int_{0}^{2\\pi}\\int_{0}^{\\pi}\\int_{0}^{R}{r^2drd\\theta d\\varphi}} $$"
      ]
    },
    {
      "cell_type": "code",
      "execution_count": null,
      "id": "85c65930",
      "metadata": {
        "colab": {
          "base_uri": "https://localhost:8080/"
        },
        "id": "85c65930",
        "outputId": "259a3feb-217e-4c65-aad7-1567eef0492e"
      },
      "outputs": [
        {
          "output_type": "stream",
          "name": "stdout",
          "text": [
            "Temperatura promedio de la esfera después de 60 s: 639.2649422312178 K\n"
          ]
        }
      ],
      "source": [
        "# Resuelva para 60 segundos\n",
        "t_final=60\n",
        "(time_results, temperature_results, T_max_history) = FTCS(A, b, t_initial, t_final, record_interval)\n",
        "\n",
        "# Calcule la temperatura promedio después de una hora utilizando el método trapezoidal o similar\n",
        "\n",
        "from scipy.integrate import trapezoid\n",
        "\n",
        "# Definimos la función que devuelve la temperatura promedio\n",
        "def temperatura_promedio_esfera(T, r):\n",
        "    # Calculamos el numerador usando la regla del trapezoide\n",
        "    numerador = trapezoid(T * r**2, r)\n",
        "\n",
        "    # Calculamos el denominador analíticamente\n",
        "    denominador = R**3 / 3\n",
        "\n",
        "    # Calculamos la temperatura promedio\n",
        "    T_promedio = numerador / denominador\n",
        "\n",
        "    return T_promedio\n",
        "T_promedio = temperatura_promedio_esfera(temperature_results[-1], r)\n",
        "print(f\"Temperatura promedio de la esfera después de 60 s: {T_promedio} K\")"
      ]
    },
    {
      "cell_type": "code",
      "execution_count": null,
      "id": "aRFUPnARbLe3",
      "metadata": {
        "id": "aRFUPnARbLe3"
      },
      "outputs": [],
      "source": []
    }
  ],
  "metadata": {
    "colab": {
      "provenance": [],
      "include_colab_link": true
    },
    "kernelspec": {
      "display_name": "Python 3 (ipykernel)",
      "language": "python",
      "name": "python3"
    },
    "language_info": {
      "codemirror_mode": {
        "name": "ipython",
        "version": 3
      },
      "file_extension": ".py",
      "mimetype": "text/x-python",
      "name": "python",
      "nbconvert_exporter": "python",
      "pygments_lexer": "ipython3",
      "version": "3.10.9"
    }
  },
  "nbformat": 4,
  "nbformat_minor": 5
}