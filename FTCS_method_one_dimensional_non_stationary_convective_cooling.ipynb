{
  "cells": [
    {
      "cell_type": "markdown",
      "metadata": {
        "id": "view-in-github",
        "colab_type": "text"
      },
      "source": [
        "<a href=\"https://colab.research.google.com/github/sebastianmunozvasq/Portfolio-SMV/blob/Problems-with-initial-and-boundary-values/FTCS_method_one_dimensional_non_stationary_convective_cooling.ipynb\" target=\"_parent\"><img src=\"https://colab.research.google.com/assets/colab-badge.svg\" alt=\"Open In Colab\"/></a>"
      ]
    },
    {
      "cell_type": "markdown",
      "id": "edf09927",
      "metadata": {
        "id": "edf09927"
      },
      "source": [
        "### Computational implementation of the FTCS method to solve the one-dimensional non-stationary convective cooling of a bar.\n",
        "\n",
        "\n"
      ]
    },
    {
      "cell_type": "markdown",
      "id": "c626c3f2",
      "metadata": {
        "id": "c626c3f2"
      },
      "source": [
        "It is desired to know the temperature profile in a cylindrical aluminum bar of very thin radius and length $L = 1 m$. We will consider the axial coordinate as $z$ and that heat transfer occurs only in this direction.\n",
        "* At $z = 0$, the bar is attached to a very large hot body whose temperature is constant and equal to $T_w = 400 K$.\n",
        "* At $z = L$, axial heat transfer can be neglected since the cross-sectional area of the bar is very small.\n",
        "* At $t = 0$, which represents the beginning of the process, the temperature of the whole bar is equal to $T_0 = 400 K$.\n",
        "* Over time, the bar cools by natural convection from the surroundings characterized by a convection coefficient $h = 20 Wm^{-2}K^{-1}$ and an ambient temperature $T_{\\infty} = 298 K$.\n",
        "* The thermal diffusivity of the bar is $\\alpha = 9.586$ $\\times$ $10^{-5}$ m $^{2}$ s $^{-1}$.\n",
        "* The diameter of the bar is $d_i = 5,08$ cm.\n",
        "* The specific heat of aluminum is approximately $\\hat{c}_p = 897$ J / kg / K.\n",
        "\n",
        "The differential balance of this system produces the following partial differential equation\n",
        "\n",
        "$$ \\frac{\\partial T}{\\partial t} = \\alpha \\frac{\\partial^2 T}{\\partial z^2} - \\frac{4h}{\\rho \\hat{c}_p d_i} (T-T_{\\infty}) $$\n",
        "\n",
        "Subject to initial condition\n",
        "\n",
        "IC: $T(z, t=0) = T_0 = 400 K$\n",
        "\n",
        "And the boundary conditions:\n",
        "\n",
        "BC1: $ T(z=0, t) = T_w = 400 K $\n",
        "\n",
        "BC2: $  \\frac{\\partial T}{\\partial z} (z=L, t) = 0 $\n",
        "\n",
        "Next, we proceed with the following steps to solve the IBP:\n",
        "\n",
        "1. Discretize the resulting differential equation using finite differences in space and time 2.\n",
        "2. Implement a numerical algorithm to find the solution to the system during the first 3600 seconds of the process."
      ]
    },
    {
      "cell_type": "markdown",
      "id": "ac7ffbdf",
      "metadata": {
        "id": "ac7ffbdf"
      },
      "source": [
        "### Part 1)\n",
        "\n",
        "We will use the FTCS method. Let $j$ and $j+1$ be the time of the current iteration and the time of the next iteration, respectively. These will appear in superscripts next to the discretized variable. In the subscripts will appear the indices associated with the nodes coming from the spatial discretization of the geometric domain. Finally, we note that convective cooling constitutes a heat sink term. When discretizing this term, the temperature as a continuous variable is replaced by the temperature of the central node $ i $. By applying the FTCS method, the following discretized equation is obtained:"
      ]
    },
    {
      "cell_type": "markdown",
      "id": "80fc0d93",
      "metadata": {
        "id": "80fc0d93"
      },
      "source": [
        "$$ \\frac{T_i^{j+1}-T_i^{j}}{\\Delta t} = \\alpha \\frac{T_{i+1}^j - 2 T_{i}^j + T_{i-1}^j}{\\Delta z ^2} - \\frac{4h}{\\rho \\hat{c}_p d_i} (T^{j}_i-T_{\\infty})  $$"
      ]
    },
    {
      "cell_type": "markdown",
      "id": "5d92c780",
      "metadata": {
        "id": "5d92c780"
      },
      "source": [
        "By rearranging terms, we obtain the iteration to find the evolution of the system:"
      ]
    },
    {
      "cell_type": "markdown",
      "id": "cd0887f2",
      "metadata": {
        "id": "cd0887f2"
      },
      "source": [
        "$$ T_i^{j+1} = T_i^{j} +  \\Delta t \\left( \\alpha\\frac{T_{i+1}^j - 2 T_{i}^j + T_{i-1}^j}{\\Delta z ^2} - \\frac{4h}{\\rho \\hat{c}_p d_i} (T^{j}_i-T_{\\infty}) \\right), \\hspace{0.5cm} 1 \\leq i \\leq N_z - 1$$"
      ]
    },
    {
      "cell_type": "markdown",
      "id": "c9cfe3f0",
      "metadata": {
        "id": "c9cfe3f0"
      },
      "source": [
        "This equation is valid for all interior nodes. The first and last nodes are denoted by $i = 0$ and $i = N_z$, respectively. For these nodes, the evolution equation is determined by the boundary conditions of the problem. We can matrix write this equation as follows,"
      ]
    },
    {
      "cell_type": "markdown",
      "id": "8066b5c4",
      "metadata": {
        "id": "8066b5c4"
      },
      "source": [
        "$$ \\mathbf{T}^{j+1} = \\mathbf{T}^{j} + \\Delta t \\cdot (\\mathbf{A} \\mathbf{T}^{j} + \\mathbf{b})  $$"
      ]
    },
    {
      "cell_type": "markdown",
      "id": "34e56975",
      "metadata": {
        "id": "34e56975"
      },
      "source": [
        "Writing this iteration in a matrix form allows us to greatly reduce the computational time required to compute the solution. This is because we replace a native Python loop with a matrix multiplication in NumPy. Since much of the NumPy module is programmed in a high-level language such as C++, this matrix multiplication is much faster."
      ]
    },
    {
      "cell_type": "markdown",
      "id": "0b8677b5",
      "metadata": {
        "id": "0b8677b5"
      },
      "source": [
        "Part 2) Implementation of the numerical method"
      ]
    },
    {
      "cell_type": "markdown",
      "id": "dfe8e0d9",
      "metadata": {
        "id": "dfe8e0d9"
      },
      "source": [
        "We import the necessary modules"
      ]
    },
    {
      "cell_type": "code",
      "execution_count": null,
      "id": "445516ef",
      "metadata": {
        "id": "445516ef"
      },
      "outputs": [],
      "source": [
        "# Scientific computing\n",
        "import numpy as np\n",
        "\n",
        "# Plotting\n",
        "import matplotlib.pyplot as plt\n",
        "\n",
        "# Colormaps\n",
        "from matplotlib import cm\n",
        "\n",
        "# Special functions\n",
        "from scipy.special import erf, erfc\n"
      ]
    },
    {
      "cell_type": "markdown",
      "id": "191c6a0b",
      "metadata": {
        "id": "191c6a0b"
      },
      "source": [
        "We define the initial temperature and the temperature at the end $z = 0$."
      ]
    },
    {
      "cell_type": "code",
      "execution_count": null,
      "id": "0c59137a",
      "metadata": {
        "id": "0c59137a"
      },
      "outputs": [],
      "source": [
        "# Initial temperature of the bar\n",
        "T_0 = 400  # K\n",
        "\n",
        "# Temperature at z = 0\n",
        "T_w = 400  # K\n"
      ]
    },
    {
      "cell_type": "markdown",
      "id": "bd337479",
      "metadata": {
        "id": "bd337479"
      },
      "source": [
        "We define the physical parameters associated with the partial differential equation:"
      ]
    },
    {
      "cell_type": "code",
      "execution_count": null,
      "id": "519265af",
      "metadata": {
        "id": "519265af"
      },
      "outputs": [],
      "source": [
        "# Thickness of the bar\n",
        "L = 1  # m\n",
        "\n",
        "# Thermal diffusivity\n",
        "alpha = 9.586e-5  # m^2/s\n",
        "\n",
        "# Density of the aluminum bar\n",
        "rho = 2700  # kg/m^3\n",
        "\n",
        "# Specific heat capacity at constant pressure\n",
        "c_p = 897  # J / kg / K\n",
        "\n",
        "# Diameter of the bar\n",
        "d_i = 0.0254  # m\n",
        "\n",
        "# Natural convection heat transfer coefficient\n",
        "h = 20  # W/m^2/K\n"
      ]
    },
    {
      "cell_type": "markdown",
      "id": "6f58a078",
      "metadata": {
        "id": "6f58a078"
      },
      "source": [
        "We define the simulation parameters"
      ]
    },
    {
      "cell_type": "code",
      "execution_count": null,
      "id": "7d5851bf",
      "metadata": {
        "id": "7d5851bf"
      },
      "outputs": [],
      "source": [
        "# Number of nodes in the z dimension\n",
        "n_z = 101\n",
        "\n",
        "# Time step\n",
        "dt = 0.5  # s\n",
        "\n",
        "# Initialize the mesh\n",
        "z = np.linspace(0, L, n_z + 1)\n",
        "\n",
        "# Mesh spacing\n",
        "dz = L / (n_z - 1)\n",
        "\n",
        "# Initial condition\n",
        "T = np.ones(n_z + 1) * T_0\n",
        "\n",
        "# Initial time\n",
        "t_0 = 0\n",
        "\n",
        "# Final time\n",
        "t_f = 3600  # s\n"
      ]
    },
    {
      "cell_type": "markdown",
      "id": "d6e03598",
      "metadata": {
        "id": "d6e03598"
      },
      "source": [
        "We construct the coefficient matrix and fill it row by row for the interior nodes. These coefficients come from the PDE discretization."
      ]
    },
    {
      "cell_type": "code",
      "execution_count": null,
      "id": "6105cd5d",
      "metadata": {
        "id": "6105cd5d"
      },
      "outputs": [],
      "source": [
        "# Create the matrix\n",
        "A = np.zeros([n_z + 1, n_z + 1])\n",
        "\n",
        "# Iteration\n",
        "for i in range(1, n_z):\n",
        "    # Coefficients for the left node, (i-1)\n",
        "    A[i, i-1] = alpha / (dz**2)\n",
        "\n",
        "    # Coefficients for the central node, i\n",
        "    A[i, i] = -2 * alpha / (dz**2) - 4 * h / (rho * c_p * d_i)\n",
        "\n",
        "    # Coefficients for the right node, i + 1\n",
        "    A[i, i+1] = alpha / (dz**2)\n"
      ]
    },
    {
      "cell_type": "markdown",
      "id": "bbb07f33",
      "metadata": {
        "id": "bbb07f33"
      },
      "source": [
        "We construct the vector $b$ which has the same dimension as the temperature,"
      ]
    },
    {
      "cell_type": "code",
      "execution_count": null,
      "id": "0e6ca8ac",
      "metadata": {
        "id": "0e6ca8ac"
      },
      "outputs": [],
      "source": [
        "# Ambient temperature\n",
        "T_inf = 298 # K\n",
        "\n",
        "# Right-hand side vector\n",
        "b = np.ones(len(T)) * 4 * h / (rho * c_p * d_i) * T_inf\n"
      ]
    },
    {
      "cell_type": "markdown",
      "id": "1eba4750",
      "metadata": {
        "id": "1eba4750"
      },
      "source": [
        "Discretizing the Dirichlet boundary condition at $z = 0$, we have\n",
        "\n",
        "$$ T^{j}_{0} = T_w $$"
      ]
    },
    {
      "cell_type": "code",
      "execution_count": null,
      "id": "61172ae1",
      "metadata": {
        "id": "61172ae1"
      },
      "outputs": [],
      "source": [
        "# As the temperature of the first node does not change with time, the coefficient associated with this temperature in the matrix A is set to zero\n",
        "A[0, 0] = 0\n",
        "\n",
        "# We also set the right-hand side vector for the first node to zero\n",
        "b[0] = 0\n"
      ]
    },
    {
      "cell_type": "markdown",
      "id": "b760125a",
      "metadata": {
        "id": "b760125a"
      },
      "source": [
        "Discretizing the Neumann boundary condition at $z = L$, using second-order centered differences\n",
        "\n",
        "$$ 3T^{j}_{N_z} - 4T^{j}_{N_z-1} + 1 T^{j}_{N_z-2}  = 0$$"
      ]
    },
    {
      "cell_type": "code",
      "execution_count": null,
      "id": "3492d27d",
      "metadata": {
        "id": "3492d27d"
      },
      "outputs": [],
      "source": [
        "# Second-order boundary condition\n",
        "\n",
        "A[-1, -1] = 3\n",
        "A[-1, -2] = -4\n",
        "A[-1, -3] = 1\n",
        "\n",
        "# Remains zero because it is a homogeneous boundary condition\n",
        "b[-1] = 0\n"
      ]
    },
    {
      "cell_type": "markdown",
      "id": "0361e88c",
      "metadata": {
        "id": "0361e88c"
      },
      "source": [
        "We verify that the sparse matrix using the command `ax.spy`."
      ]
    },
    {
      "cell_type": "code",
      "execution_count": null,
      "id": "98e05505",
      "metadata": {
        "id": "98e05505",
        "outputId": "026e267e-563c-46b2-f32c-bc0ee92c2f8e",
        "colab": {
          "base_uri": "https://localhost:8080/",
          "height": 316
        }
      },
      "outputs": [
        {
          "output_type": "display_data",
          "data": {
            "text/plain": [
              "<Figure size 300x300 with 1 Axes>"
            ],
            "image/png": "[encoded data removed]"
          },
          "metadata": {}
        }
      ],
      "source": [
        "# Create a 3 x 3 subplot\n",
        "fig, ax = plt.subplots(1, 1, figsize=[3, 3])\n",
        "\n",
        "# Plot the sparsity pattern of the matrix\n",
        "ax.spy(A, markersize=3)\n",
        "plt.show()\n"
      ]
    },
    {
      "cell_type": "markdown",
      "id": "78d25cd4",
      "metadata": {
        "id": "78d25cd4"
      },
      "source": [
        "In NumPy, the product between a matrix and a vector is computed using the syntax `np.dot(A,T)`. Before constructing the iteration of the temperature evolution, we test the syntax for one iteration in order to intuitively validate the construction of the matrix A\n",
        "$$ \\mathbf{T}^{j+1} = \\mathbf{T}^{j} + \\Delta t \\cdot (\\mathbf{A} \\mathbf{T}^{j} + \\mathbf{b})  $$\n",
        "\n",
        "Where `T_new` stands for $\\mathbf{T}^{j+1}$ y Where `T` stands for $\\mathbf{T}^{j}$."
      ]
    },
    {
      "cell_type": "code",
      "execution_count": null,
      "id": "28d2797c",
      "metadata": {
        "id": "28d2797c",
        "outputId": "7e848116-ad92-4d89-c84e-c1c3ccd3d3ea",
        "colab": {
          "base_uri": "https://localhost:8080/"
        }
      },
      "outputs": [
        {
          "output_type": "execute_result",
          "data": {
            "text/plain": [
              "array([400.        , 399.93367607, 399.93367607, 399.93367607,\n",
              "       399.93367607, 399.93367607, 399.93367607, 399.93367607,\n",
              "       399.93367607, 399.93367607, 399.93367607, 399.93367607,\n",
              "       399.93367607, 399.93367607, 399.93367607, 399.93367607,\n",
              "       399.93367607, 399.93367607, 399.93367607, 399.93367607,\n",
              "       399.93367607, 399.93367607, 399.93367607, 399.93367607,\n",
              "       399.93367607, 399.93367607, 399.93367607, 399.93367607,\n",
              "       399.93367607, 399.93367607, 399.93367607, 399.93367607,\n",
              "       399.93367607, 399.93367607, 399.93367607, 399.93367607,\n",
              "       399.93367607, 399.93367607, 399.93367607, 399.93367607,\n",
              "       399.93367607, 399.93367607, 399.93367607, 399.93367607,\n",
              "       399.93367607, 399.93367607, 399.93367607, 399.93367607,\n",
              "       399.93367607, 399.93367607, 399.93367607, 399.93367607,\n",
              "       399.93367607, 399.93367607, 399.93367607, 399.93367607,\n",
              "       399.93367607, 399.93367607, 399.93367607, 399.93367607,\n",
              "       399.93367607, 399.93367607, 399.93367607, 399.93367607,\n",
              "       399.93367607, 399.93367607, 399.93367607, 399.93367607,\n",
              "       399.93367607, 399.93367607, 399.93367607, 399.93367607,\n",
              "       399.93367607, 399.93367607, 399.93367607, 399.93367607,\n",
              "       399.93367607, 399.93367607, 399.93367607, 399.93367607,\n",
              "       399.93367607, 399.93367607, 399.93367607, 399.93367607,\n",
              "       399.93367607, 399.93367607, 399.93367607, 399.93367607,\n",
              "       399.93367607, 399.93367607, 399.93367607, 399.93367607,\n",
              "       399.93367607, 399.93367607, 399.93367607, 399.93367607,\n",
              "       399.93367607, 399.93367607, 399.93367607, 399.93367607,\n",
              "       399.93367607, 399.93367607])"
            ]
          },
          "metadata": {},
          "execution_count": 10
        }
      ],
      "source": [
        "# Example of one iteration\n",
        "T_new = T + (np.dot(A, T) + b) * dt\n",
        "\n",
        "# Correct the second-order boundary condition with a separate line\n",
        "T_new[-1] = (4 * T_new[-2] - T_new[-3]) / 3\n",
        "\n",
        "# Explore the variable\n",
        "T_new\n"
      ]
    },
    {
      "cell_type": "markdown",
      "id": "71f559aa",
      "metadata": {
        "id": "71f559aa"
      },
      "source": [
        "We can notice that the bar temperature decreased by approximately 0.1 K after one time step. We are now in a position to calculate the time-dependent temperature profile:"
      ]
    },
    {
      "cell_type": "code",
      "execution_count": null,
      "id": "ef7afad1",
      "metadata": {
        "scrolled": true,
        "id": "ef7afad1"
      },
      "outputs": [],
      "source": [
        "# Initial integration time\n",
        "t = 0\n",
        "\n",
        "# Final integration time\n",
        "t_max = 1800\n",
        "\n",
        "# We will save the results after 300 s\n",
        "write_interval = 300\n",
        "\n",
        "# List to accumulate times where temperature profiles are saved\n",
        "t_vec = []\n",
        "\n",
        "# Generate a copy of the temperature\n",
        "T_old = np.copy(T)\n",
        "\n",
        "# List with temperature profiles for each write_interval\n",
        "T_num = []\n",
        "\n",
        "# Evolution equation from t = 0 to t_max\n",
        "while t < t_max:\n",
        "    # Update temperatures\n",
        "    T_new = T_old + (np.dot(A, T_old) + b) * dt\n",
        "    T_new[-1] = (4 * T_new[-2] - T_new[-3]) / 3\n",
        "\n",
        "    # Advance the time\n",
        "    t += dt\n",
        "    # print(t)\n",
        "\n",
        "    T_old = np.copy(T_new)\n",
        "\n",
        "    # Save the temperature profile and time\n",
        "    if (t % write_interval) < 0.9 * dt:\n",
        "        T_num.append(T_new)\n",
        "\n",
        "        # Save the time\n",
        "        t_vec.append(t)\n"
      ]
    },
    {
      "cell_type": "markdown",
      "id": "20e32ea2",
      "metadata": {
        "id": "20e32ea2"
      },
      "source": [
        "Routine for plotting"
      ]
    },
    {
      "cell_type": "code",
      "execution_count": null,
      "id": "d997c2c7",
      "metadata": {
        "id": "d997c2c7",
        "outputId": "4f4d6155-446b-4c51-a7e6-b0b3b1ca13b9",
        "colab": {
          "base_uri": "https://localhost:8080/",
          "height": 449
        }
      },
      "outputs": [
        {
          "output_type": "stream",
          "name": "stderr",
          "text": [
            "<ipython-input-12-8c53cc65b7ec>:10: MatplotlibDeprecationWarning: The get_cmap function was deprecated in Matplotlib 3.7 and will be removed two minor releases later. Use ``matplotlib.colormaps[name]`` or ``matplotlib.colormaps.get_cmap(obj)`` instead.\n",
            "  cividis = cm.get_cmap(\"cividis\", n_temp)\n"
          ]
        },
        {
          "output_type": "display_data",
          "data": {
            "text/plain": [
              "<Figure size 500x400 with 1 Axes>"
            ],
            "image/png": "[encoded data removed]"
          },
          "metadata": {}
        }
      ],
      "source": [
        "import matplotlib.pyplot as plt\n",
        "from matplotlib import cm\n",
        "\n",
        "fig, ax = plt.subplots(1, 1, figsize=[5, 4])\n",
        "\n",
        "# Total number of temperature profiles to plot\n",
        "n_temp = len(T_num)\n",
        "\n",
        "# Use an inclusive color map\n",
        "cividis = cm.get_cmap(\"cividis\", n_temp)\n",
        "colour = [cividis(i / n_temp) for i in range(n_temp)]\n",
        "\n",
        "for k in range(len(T_num)):\n",
        "    plt.plot(z, T_num[k], color=colour[k], label=\"t = %.0f s\" % t_vec[k])\n",
        "\n",
        "plt.xlabel('$z$ / m', size=14)\n",
        "plt.ylabel('$T$ / K', size=14)\n",
        "plt.grid()\n",
        "plt.legend()\n",
        "plt.show()\n"
      ]
    }
  ],
  "metadata": {
    "kernelspec": {
      "display_name": "Python 3 (ipykernel)",
      "language": "python",
      "name": "python3"
    },
    "language_info": {
      "codemirror_mode": {
        "name": "ipython",
        "version": 3
      },
      "file_extension": ".py",
      "mimetype": "text/x-python",
      "name": "python",
      "nbconvert_exporter": "python",
      "pygments_lexer": "ipython3",
      "version": "3.9.13"
    },
    "colab": {
      "provenance": [],
      "include_colab_link": true
    }
  },
  "nbformat": 4,
  "nbformat_minor": 5
}