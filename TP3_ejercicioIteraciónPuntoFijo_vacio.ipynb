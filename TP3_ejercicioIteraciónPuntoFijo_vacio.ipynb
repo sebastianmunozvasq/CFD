{
  "cells": [
    {
      "cell_type": "markdown",
      "metadata": {
        "id": "qCHqMv7945f7"
      },
      "source": [
        "##  TP3: Modelamiento de un radiador industrial\n",
        "MOOC: Transferencia de Calor y Masa Computacional"
      ]
    },
    {
      "cell_type": "markdown",
      "metadata": {
        "id": "W8_EqgHi45f-"
      },
      "source": [
        "### Descripción del modelo\n",
        "\n",
        "Los radiadores de agua son parte del equipamiento del sistema de calefacción que permite mantener la temperatura de un lugar agradable cuando hace frio. Es posible modelar un radiador como un rendija rectangular, de largo $L$, alto $B$ y profundidad $W$, a través de la cual circula agua a altas temperaturas. El fluido calienta el metal de las rendijas, y este a su vez calienta el aire del ambiente mediante convección natural y radiación. La Figura muestra la rendija que modela una pasada del fluido por una placa del radiador.\n",
        "\n",
        "<img src=\"./diagramPuntoFijo.png\" alt=\"Alternative text\"\n",
        "     align=\"right\"\n",
        "     width=\"400\"/>\n",
        "   \n",
        "El fluido circula de derecha a izquierda en la dirección $x$. Como una primera aproximación, se asumirá flujo direccional con un perfil de flujo pistón. Este perfil de flujo se caracteriza por que si se pudiera tomar un volumen de control del fluido, este se movería como un \"pistón\". Bajo este supuesto,  la velocidad es constante en todo el especio e igual a $v_0$. Es decir, se desprecian los gradientes de velocidad cerca de las paredes de la tubería.\n",
        "\n",
        "Además, el sistema se encuentra en estado estacionario, por lo que no hay variaciones de la temperatura en función del tiempo.\n",
        "\n",
        "* Se asumirá que las propiedades termofísicas son constantes, y que la resistencia térmica de las paredes es descpreciable. Para el cálculo de las propiedades termofísicas, se le sugiera utilizar la presión promedio de agua en la rendija, que es igual a $\\bar{P} = 200 kPa$.\n",
        "* Además, se asumirá que las dimensiones de la sección transversal de la rendija son mucho menores al largo de esta. Es decir, $B \\ll L$ y $W \\ll L $. Esto implica que las variaciones de temperatura en la dirección $z$ e $y$ son despreciables, y únicamente se considerarán en la dirección paralela al flujo."
      ]
    },
    {
      "cell_type": "markdown",
      "metadata": {
        "id": "zOpnDT9A45gA"
      },
      "source": [
        "### Ecuación gobernante\n",
        "\n",
        "La ecuación diferencial ordinaria (EDO) que describe el perfil de temperatura de la tubería en estado estacionario sujeto a pérdidas de calor por convección natural y radiación es:\n",
        "\n",
        "\n",
        "\\begin{equation}\n",
        "\\text{EDO}: \\alpha\\frac{d^2T}{dx} = v_{0}\\frac{dT}{dx} +  \\frac{2 h}{\\rho c_p B}(T-T_{aire}) + \\frac{2 \\sigma \\varepsilon}{\\rho c_{p} B}(T^4-T^4_{aire})\n",
        "\\end{equation}\n",
        "\n",
        "Esta es una ecuación diferencial no lineal debido a que aparece $T^4$ en el término del enfriamiento radiante."
      ]
    },
    {
      "cell_type": "markdown",
      "metadata": {
        "id": "fQlZCyFc45gB"
      },
      "source": [
        "### Condiciones de borde:\n",
        "\n",
        "Para este modelo, se asumirá que la temperatura a la entrada de la rendija es conocida. Esto es razonable ya que la mayoría de los radiadores o calderas domiciliarias tienen un sistema de control con un sensor de temperatura a la entrada. Por lo tanto, en $x=0$ se tiene la siguiente condición de borde de Dirichlet no homogénea:\n",
        "\n",
        "\\begin{equation}\n",
        "\\text{CB1}:  T|_{x=0} = T_{in}\n",
        "\\end{equation}\n",
        "\n",
        "A la salida del radiador, asumiremos que la convección forzada \"sigue\" hacia el resto del sistema sin obstrucciones. Esto se traduce en una condición de *flujo a través*, que para este caso en particular tiene la forma de una condición de Neumann homogénea:\n",
        "\n",
        "$$\\text{CB2}:\\frac{d T}{d x}|_{x=L} = 0$$"
      ]
    },
    {
      "cell_type": "markdown",
      "metadata": {
        "id": "ueYFiXnr45gB"
      },
      "source": [
        "#### Problema a los valores de contorno\n",
        "La EDO junto a las condiciones de borde CB1 y CB2 constituyen un problema a los valores de contorno no lineal. En este trabajo práctico:\n",
        "1. Usted deberá encontrar el perfil de temperatura utilizando la iteración de punto fijo.\n",
        "2. Luego, usted calculará cantidades de interés ingenieril como la temperatura promedio y el flujo de calor en distintas partes de la barra.\n",
        "3. Finalmente, usted comparará las contribuciones del transporte por convección y conducción.\n"
      ]
    },
    {
      "cell_type": "markdown",
      "metadata": {
        "id": "EsYal6bf45gC"
      },
      "source": [
        "### Preámbulo\n",
        "\n",
        "Este notebook requiere utilizar la base de datos termodinámica y de propiedades de transporte de código abierto CoolProp. Para esto, se debe instalar en su distribución de Python. Para su instalación en Windows:\n",
        "\n",
        "1. Abrir Anaconda Prompt\n",
        "2. Escribir `pip install CoolProp`\n",
        "3. Esperar a que termine la instalación\n",
        "4. Reiniciar Jupyter Notebook y ejecutar la próxima celda de este notebook.\n",
        "\n",
        "* La documentación de CoolProp se encuentra en su página web: http://www.coolprop.org/.\n",
        "* Una sección relevante para la aplicación de este código es la [lista de fluidos disponibles](http://www.coolprop.org/fluid_properties/PurePseudoPure.html#list-of-fluids)\n",
        "\n",
        "Este notebook en particular utilizará la función  ```PropsSI```"
      ]
    },
    {
      "cell_type": "markdown",
      "metadata": {
        "id": "hq8kp7ef45gC"
      },
      "source": [
        "\n",
        "#### PropsSI\n"
      ]
    },
    {
      "cell_type": "code",
      "execution_count": null,
      "metadata": {
        "colab": {
          "base_uri": "https://localhost:8080/"
        },
        "id": "92wJsqp645gC",
        "outputId": "b0954eae-59c6-4e2d-937e-47049f48f7a5"
      },
      "outputs": [
        {
          "output_type": "stream",
          "name": "stdout",
          "text": [
            "Requirement already satisfied: CoolProp in /usr/local/lib/python3.10/dist-packages (6.6.0)\n"
          ]
        }
      ],
      "source": [
        "# Generación de gráficos\n",
        "import matplotlib.pyplot as plt\n",
        "\n",
        "# Computación numérica\n",
        "import numpy as np\n",
        "\n",
        "# Instalar CoolProp\n",
        "!pip install CoolProp\n",
        "\n",
        "# Propiedades termofísicas\n",
        "from CoolProp.CoolProp import PropsSI"
      ]
    },
    {
      "cell_type": "markdown",
      "metadata": {
        "id": "Z52VBgqV45gE"
      },
      "source": [
        "#### Definición de variables\n",
        "\n",
        "La siguiente celda de código define los valores de loos parámetros geométricos, de transferencia de calor y termodinámicos relevantes para resolver el problema de interés."
      ]
    },
    {
      "cell_type": "code",
      "execution_count": null,
      "metadata": {
        "colab": {
          "base_uri": "https://localhost:8080/"
        },
        "id": "JEgXLLtV45gE",
        "outputId": "8fd52f70-b0e4-43e6-e3c6-105dcee00a74"
      },
      "outputs": [
        {
          "output_type": "stream",
          "name": "stdout",
          "text": [
            "c_p = 4.193e+03 \n",
            "rho = 9.750e+02 \n",
            "k = 6.635e-01 \n",
            "alpha = 1.623e-07 \n"
          ]
        }
      ],
      "source": [
        "L = 50                                                      # Largo de la rendija [m]\n",
        "B = 0.01                                                    # Ancho de la rendija [m]\n",
        "W = 1                                                       # Altura de la rendija [m]\n",
        "v_0 = 1e-1                                                  # Velocidad del fluido [m s-1]\n",
        "h = 30                                                      # Coef transferencia por convección natural [W m-2 K-1]\n",
        "em = 0.9                                                    # Emisividad del material\n",
        "sigma = 5.670374419e-8                                      # Stefan-Boltzmann [W m-2 K-4]\n",
        "T_aire = 273 + 18                                           # Temperatura aire [K]\n",
        "T_in = 273 + 75                                             # Temperatura de entrada [K]\n",
        "P = 200e3                                                   # Presión promedio del agua en la rendija\n",
        "\n",
        "# Las siguientes propiedades se obtienen utilizando la función\n",
        "# PropsSI del módulo CoolProp\n",
        "\n",
        "c_p = PropsSI('C', 'T', T_in, 'P', P, 'Water')               # Calor específico a presión constante [J kg-1 K-1]\n",
        "rho = PropsSI('D', 'T', T_in, 'P', P, 'Water')               # Densidad del fluido [kg m-3]\n",
        "k = PropsSI('L', 'T', T_in, 'P', P, 'Water')                 # Conductividad térmica [W m-1 K-1]\n",
        "alpha = k/(rho*c_p)                                          # Difusividad térmica [m2 s-1]\n",
        "\n",
        "# El siguiente código imprime los valores obtenidos desde CoolProp.\n",
        "# Las unidades se definieron más arriba.\n",
        "w = [print(name + \" = %.3e \" % value) for name, value in zip([\"c_p\",\"rho\", \"k\", \"alpha\"],[c_p, rho, k, alpha])]"
      ]
    },
    {
      "cell_type": "markdown",
      "metadata": {
        "id": "6GKOaHW245gE"
      },
      "source": [
        "```PropsSI``` es una función que recibe los inputs en el siguiente orden:\n",
        "- El nombre de la propiedad que se quiere obtener, en el bloque de código anterior ```'C'``` indica que queremos obtener el calor específico a presión constante.\n",
        "- Nombre de la primera propiedad conocida. En este caso es la temperatura.\n",
        "- Valor númerico de la primera propiedad.\n",
        "- Nombre de la segunda propiedad conocida. En este caso ```'P'```es la presión del agua.\n",
        "- Valor númerico de la segunda propiedad. En el caso de la presión, 200000 indica 200kPa.\n",
        "- Nombre del fluido: en este caso se utiliza ``Water``"
      ]
    },
    {
      "cell_type": "markdown",
      "metadata": {
        "id": "lVibcAPz45gF"
      },
      "source": [
        "### Parte 1: Discretización del problema a los valores de contorno"
      ]
    },
    {
      "cell_type": "markdown",
      "metadata": {
        "id": "9GYPc23Z45gF"
      },
      "source": [
        "#### Discretización\n",
        "1. Escriba la ecuación discretizada válida para los nodos interiores del dominio.\n",
        "2. Factorice la expresión resultante para encontrar los términos que multiplican a $T_{i-1}$, $T_i$ y $T_{i+1}$. Estos términos deben quedar al lado izquierdo de la ecuación.\n",
        "3. Asegúrese que en el lado derecho se encuentran los componentes del vector $\\mathbf{b}$ que no depende de la temperatura de los nodos, y de la función no lineal $\\mathbf{f}(T_i)$\n",
        "4. Discretice las condiciones de borde. Para la segunda condición de borde, utilice diferencias finitas hacia atrás de segundo orden"
      ]
    },
    {
      "cell_type": "markdown",
      "metadata": {
        "id": "Z64lL3IY45gF"
      },
      "source": [
        "Si lo desea, escriba aquí su solución utilizando Markdown. Alternativamente, utilice lapiz y papel."
      ]
    },
    {
      "cell_type": "markdown",
      "metadata": {
        "id": "psHfmvlp45gF"
      },
      "source": [
        "### Parte 2: Implementación numérica\n",
        "\n",
        "#### 2.1 Generación de matrices y vectores\n",
        "En la siguiente celda, usted generará las matrices y vectores base para aplicar el algoritmo.\n",
        "\n",
        "* Primero, define la grilla unidimensional en la dirección $x$. Utilice 1001 nodos\n",
        "* Luego, construya la matriz de coeficientes A\n",
        "* Finalmente, construya el vector del lado derecho b"
      ]
    },
    {
      "cell_type": "code",
      "execution_count": null,
      "metadata": {
        "id": "jSgiqSt645gG",
        "colab": {
          "base_uri": "https://localhost:8080/"
        },
        "outputId": "6b3b73df-248f-43f2-c057-936c312c7098"
      },
      "outputs": [
        {
          "output_type": "stream",
          "name": "stdout",
          "text": [
            "[348.          -0.42710721  -0.42710721  -0.42710721  -0.42710721\n",
            "  -0.42710721  -0.42710721  -0.42710721  -0.42710721  -0.42710721\n",
            "  -0.42710721  -0.42710721  -0.42710721  -0.42710721  -0.42710721\n",
            "  -0.42710721  -0.42710721  -0.42710721  -0.42710721  -0.42710721\n",
            "  -0.42710721  -0.42710721  -0.42710721  -0.42710721  -0.42710721\n",
            "  -0.42710721  -0.42710721  -0.42710721  -0.42710721  -0.42710721\n",
            "  -0.42710721  -0.42710721  -0.42710721  -0.42710721  -0.42710721\n",
            "  -0.42710721  -0.42710721  -0.42710721  -0.42710721  -0.42710721\n",
            "  -0.42710721  -0.42710721  -0.42710721  -0.42710721  -0.42710721\n",
            "  -0.42710721  -0.42710721  -0.42710721  -0.42710721  -0.42710721\n",
            "  -0.42710721  -0.42710721  -0.42710721  -0.42710721  -0.42710721\n",
            "  -0.42710721  -0.42710721  -0.42710721  -0.42710721  -0.42710721\n",
            "  -0.42710721  -0.42710721  -0.42710721  -0.42710721  -0.42710721\n",
            "  -0.42710721  -0.42710721  -0.42710721  -0.42710721  -0.42710721\n",
            "  -0.42710721  -0.42710721  -0.42710721  -0.42710721  -0.42710721\n",
            "  -0.42710721  -0.42710721  -0.42710721  -0.42710721  -0.42710721\n",
            "  -0.42710721  -0.42710721  -0.42710721  -0.42710721  -0.42710721\n",
            "  -0.42710721  -0.42710721  -0.42710721  -0.42710721  -0.42710721\n",
            "  -0.42710721  -0.42710721  -0.42710721  -0.42710721  -0.42710721\n",
            "  -0.42710721  -0.42710721  -0.42710721  -0.42710721  -0.42710721\n",
            "   0.        ]\n"
          ]
        }
      ],
      "source": [
        "# Número de nodos\n",
        "x_rango = (0.0, L)\n",
        "N = 101\n",
        "\n",
        "# Espaciamiento\n",
        "dx = L/(N-1)\n",
        "\n",
        "\n",
        "# Grilla\n",
        "x_grilla = np.linspace(0.0, L, N)\n",
        "\n",
        "# Inicialización de la matriz\n",
        "# Parámetro de convección natural\n",
        "k1 = 2 * h / (B * rho * c_p)\n",
        "\n",
        "# Parámetro de radiación\n",
        "k2 = 2 * em * sigma / (B * rho * c_p)\n",
        "\n",
        "# Parámetro de conducción\n",
        "r1 = alpha / (dx**2)\n",
        "\n",
        "# Parámetro de convección\n",
        "r2 = v_0 / (2 * dx)\n",
        "\n",
        "A = np.zeros([N,N])\n",
        "# Primera fila de la matriz asociada al nodo i = 0\n",
        "A[0][0] = 1\n",
        "\n",
        "# Ciclo \"for\" por las filas intermedias desde i = 1 hasta Nx-1\n",
        "for i in range(1,N-1):\n",
        "    # Constante multiplicando a T[i-1]\n",
        "    A[i][i-1] = r1 + r2\n",
        "\n",
        "    # Constante multiplicando a T[i]\n",
        "    A[i][i] = -2*r1 - k1\n",
        "\n",
        "    # Constante multiplicando a T[i+1]\n",
        "    A[i][i+1] = r1 - r2\n",
        "\n",
        "# Última fila de la matriz asociada al nodo i = N\n",
        "A[-1][-3] = 1\n",
        "A[-1][-2] = -4\n",
        "A[-1][-1] = 3\n",
        "# Note que el valor de la temperatura en este nodo dependerá\n",
        "# directamente del valor de los dos nodos anteriores\n",
        "\n",
        "\n",
        "# Construir el vector b\n",
        "b = np.zeros(N)\n",
        "\n",
        "# Primer elemento del vector b\n",
        "b[0] = T_in\n",
        "\n",
        "# Elementos intermedios del vector b\n",
        "for i in range(1,N-1):\n",
        "        b[i] = - k1 * T_aire\n",
        "\n",
        "# Último elemento\n",
        "b[-1] = 0\n",
        "print(b)"
      ]
    },
    {
      "cell_type": "markdown",
      "metadata": {
        "id": "Xs0K2XlF45gG"
      },
      "source": [
        "#### 2.2 Implementación de la iteración de punto fijo\n",
        "En esta sección, usted implementará la iteración de punto fijo. Note que el vector del lado derecho f se inicializará y actualizará en la siguiente celda. Debido a que esta función es no lineal, variará su valor en cada iteración."
      ]
    },
    {
      "cell_type": "code",
      "execution_count": null,
      "metadata": {
        "id": "N36yX03q45gG",
        "colab": {
          "base_uri": "https://localhost:8080/"
        },
        "outputId": "1ffd5a39-5ec8-4edc-ff07-a53a2145318f"
      },
      "outputs": [
        {
          "output_type": "stream",
          "name": "stdout",
          "text": [
            "j error\n",
            "0 30.114157484022257\n",
            "1 1.9593105525876657\n",
            "2 0.09493885356352398\n",
            "3 0.0037495396714459484\n",
            "4 0.00013516898193375747\n",
            "5 5.574080098495184e-06\n",
            "6 3.0973109983351544e-07\n"
          ]
        }
      ],
      "source": [
        "# Iniciar vector nulo para vector del lado derecho f\n",
        "f = np.zeros(N)\n",
        "\n",
        "# Iniciar vector de temperatura\n",
        "\n",
        "# Encontrar una solución inicial que consiste en el\n",
        "# perfil de temperatura sin considerar la función f\n",
        "Tconv = np.linalg.solve(A,b)\n",
        "T0 = Tconv\n",
        "\n",
        "# Inicializar un contador en 0\n",
        "j = 0\n",
        "\n",
        "# Definir un número máximo de iteraciones\n",
        "\n",
        "jmax = 1000\n",
        "\n",
        "# Inicializar un error. Considere un valor mayor a la tolerancia\n",
        "err = 1\n",
        "\n",
        "# Definir tolerancia\n",
        "tol = 1e-6\n",
        "# Imprimir error\n",
        "print('j error')\n",
        "\n",
        "# Iteración\n",
        "# Ciclo while\n",
        "while err > tol and j < jmax:\n",
        "    # Construir vector del lado derecho para nodos interiores\n",
        "    for i in range(1,N-1):\n",
        "        f[i] = k2 * (T0[i]**4 - T_aire**4)\n",
        "\n",
        "\n",
        "    # Resolver sistema matricial\n",
        "    tmp = b+f\n",
        "    T = np.linalg.solve(A,tmp)\n",
        "\n",
        "\n",
        "    # Calcular nuevo error\n",
        "    err = np.linalg.norm(T - T0)\n",
        "    print(j, err)\n",
        "\n",
        "\n",
        "    # Aumentar contador de iteraciones\n",
        "    j = j + 1\n",
        "\n",
        "\n",
        "    # Actualizar la temperatura antigua a la nueva temperatura calculada en esta iteración\n",
        "    T0 = T\n"
      ]
    },
    {
      "cell_type": "code",
      "execution_count": null,
      "metadata": {
        "id": "xVCn9ZJx45gG",
        "colab": {
          "base_uri": "https://localhost:8080/",
          "height": 391
        },
        "outputId": "930ed6b5-371c-4aa0-abd5-003bff890516"
      },
      "outputs": [
        {
          "output_type": "display_data",
          "data": {
            "text/plain": [
              "<Figure size 800x400 with 1 Axes>"
            ],
            "image/png": "[encoded data removed]"
          },
          "metadata": {}
        }
      ],
      "source": [
        "# Opcional: grafique el perfil de temperatura\n",
        "fig = plt.subplots(figsize=[8,4])\n",
        "\n",
        "plt.plot(x_grilla, T, color='indigo',label='Enfriamiento por convección + radiación')\n",
        "plt.plot(x_grilla, Tconv, 'lightskyblue',label='Enfriamiento por convección')\n",
        "plt.plot(x_grilla, x_grilla*0+T_aire, 'k--',label='$T_{aire}$')\n",
        "\n",
        "plt.grid()\n",
        "plt.legend(fontsize = 10)\n",
        "plt.tick_params(labelsize = 10)\n",
        "plt.xlabel('Coordenada $x$ / m')\n",
        "plt.ylabel('Temperatura / K')\n",
        "\n",
        "plt.show()"
      ]
    },
    {
      "cell_type": "markdown",
      "metadata": {
        "id": "vsPdLb_F45gH"
      },
      "source": [
        "## Preguntas quiz"
      ]
    },
    {
      "cell_type": "markdown",
      "metadata": {
        "id": "z3YUXNUh45gH"
      },
      "source": [
        "¿Cuál es la temperatura de salida del agua del radiador?"
      ]
    },
    {
      "cell_type": "code",
      "execution_count": null,
      "metadata": {
        "id": "n3kQHj8V45gH",
        "colab": {
          "base_uri": "https://localhost:8080/"
        },
        "outputId": "afbccdb2-2995-44d0-ebc6-4f8e648d2074"
      },
      "outputs": [
        {
          "output_type": "stream",
          "name": "stdout",
          "text": [
            "Temperatura de salida del agua del radiador: 314.61 K\n"
          ]
        }
      ],
      "source": [
        "# Escriba el código para resolver la pregunta\n",
        "print(f\"Temperatura de salida del agua del radiador: {T[-1]:.2f} K\")\n"
      ]
    },
    {
      "cell_type": "markdown",
      "metadata": {
        "id": "f0rnh1LA45gH"
      },
      "source": [
        "#### Calcule la temperatura promedio del agua en el radiador\n",
        "\n",
        "*Ayuda*: la función np.trapz(y,x) calcula mediante el método trapezoidal la aproximación numérica de la integral de una función evaluada en una grilla. Los puntos de la grilla están contenidos en la `np.array` \"`x`\" y la función evaluada en la grilla se almacena en la `np.array` \"`y`\"."
      ]
    },
    {
      "cell_type": "code",
      "execution_count": null,
      "metadata": {
        "id": "bm6vnz4C45gH",
        "colab": {
          "base_uri": "https://localhost:8080/"
        },
        "outputId": "181dd08c-5234-4c1d-c1c8-ee5f2f573c0a"
      },
      "outputs": [
        {
          "output_type": "stream",
          "name": "stdout",
          "text": [
            "Temperatura promedio del agua en el radiador: 328.76 K\n"
          ]
        }
      ],
      "source": [
        "# Código de resolución\n",
        "T_promedio = np.trapz(T,x_grilla)/L\n",
        "\n",
        "print(f\"Temperatura promedio del agua en el radiador: {T_promedio:.2f} K\")"
      ]
    },
    {
      "cell_type": "markdown",
      "metadata": {
        "id": "hF7prchO45gI"
      },
      "source": [
        "#### Calcule el flujo de calor removido por convección natural\n",
        "Reporte sus resultados en kW"
      ]
    },
    {
      "cell_type": "code",
      "source": [
        "# Cálculo del flujo de calor removido por convección natural\n",
        "\n",
        "# Volumen del fluido dentro de la rendija\n",
        "volumen_fluido = L * B * W  # m^3\n",
        "\n",
        "# Término de convección natural (en W/m3)\n",
        "Q_conv_term = 2 * h * (T - T_aire) / B\n",
        "\n",
        "# Promedio del término de convección natural a lo largo de la rendija\n",
        "Q_conv_term_promedio = np.mean(Q_conv_term)\n",
        "\n",
        "# Flujo de calor removido por convección natural (en W)\n",
        "Q_conv = Q_conv_term_promedio * volumen_fluido\n",
        "\n",
        "# Conversión a kilovatios\n",
        "Q_conv_kW = Q_conv / 1000  # kW\n",
        "\n",
        "# Resultado\n",
        "print(f\"Flujo de calor removido por convección natural: {Q_conv_kW:.1f} kW\")"
      ],
      "metadata": {
        "colab": {
          "base_uri": "https://localhost:8080/"
        },
        "id": "ZOZfOOYLzm6N",
        "outputId": "7ae7ddf6-5e4d-4a59-ac4d-52dc928edfbc"
      },
      "execution_count": null,
      "outputs": [
        {
          "output_type": "stream",
          "name": "stdout",
          "text": [
            "Flujo de calor removido por convección natural: 113.4 kW\n"
          ]
        }
      ]
    },
    {
      "cell_type": "markdown",
      "source": [],
      "metadata": {
        "id": "NdkSNwWDzmmk"
      }
    },
    {
      "cell_type": "markdown",
      "metadata": {
        "id": "I236fleC45gI"
      },
      "source": [
        "#### Calcule la razón entre el flujo de calor removido por radiación y el flujo de calor total\n",
        "Reporte sus resultados como porcentaje, igual a $100 \\cdot r \\%$. Por ejemplo, si $r = 0.01$, esto corresponde a 1% y usted debe ingresar el valor numérico 1"
      ]
    },
    {
      "cell_type": "code",
      "execution_count": null,
      "metadata": {
        "id": "pe52pCoF45gI",
        "colab": {
          "base_uri": "https://localhost:8080/"
        },
        "outputId": "cbad5d13-3f2a-44af-f58e-83cb6f48fb41"
      },
      "outputs": [
        {
          "output_type": "stream",
          "name": "stdout",
          "text": [
            "Flujo de calor removido por radiación: 23.4 kW\n",
            "Razón entre el flujo de calor removido por radiación y el flujo de calor total: 0.171\n"
          ]
        }
      ],
      "source": [
        "# Cálculo del flujo de calor removido por radiación\n",
        "\n",
        "# Término de radiación (en W/m3)\n",
        "Q_rad_term = 2 * em * sigma * (T**4 - T_aire**4) / B\n",
        "\n",
        "# Promedio del término de radiación a lo largo de la rendija\n",
        "Q_rad_term_promedio = np.mean(Q_rad_term)\n",
        "\n",
        "# Flujo de calor removido por radiación (en W)\n",
        "Q_rad = Q_rad_term_promedio * volumen_fluido\n",
        "\n",
        "# Conversión a kilovatios\n",
        "Q_rad_kW = Q_rad / 1000  # kW\n",
        "\n",
        "# Flujo de calor total removido (convección + radiación)\n",
        "Q_total = Q_conv + Q_rad\n",
        "\n",
        "# Razón entre el flujo de calor removido por radiación y el flujo de calor total\n",
        "razon_Q_rad_Q_total = Q_rad / Q_total\n",
        "\n",
        "# Resultados\n",
        "print(f\"Flujo de calor removido por radiación: {Q_rad_kW:.1f} kW\")\n",
        "print(f\"Razón entre el flujo de calor removido por radiación y el flujo de calor total: {razon_Q_rad_Q_total:.3f}\")"
      ]
    },
    {
      "cell_type": "markdown",
      "metadata": {
        "id": "GAa07Rvi45gJ"
      },
      "source": [
        "Repita sus cálculos considerando que el coeficiente de transferencia de calor por convección natural es $h = 30 W m^{-2} K^{-1}$. ¿Cuál es la nueva razón entre el flujo de calor removido por radiación y el flujo de calor total removido?"
      ]
    },
    {
      "cell_type": "code",
      "source": [],
      "metadata": {
        "id": "j67JfhpeIIqb"
      },
      "execution_count": null,
      "outputs": []
    }
  ],
  "metadata": {
    "kernelspec": {
      "display_name": "Python 3 (ipykernel)",
      "language": "python",
      "name": "python3"
    },
    "language_info": {
      "codemirror_mode": {
        "name": "ipython",
        "version": 3
      },
      "file_extension": ".py",
      "mimetype": "text/x-python",
      "name": "python",
      "nbconvert_exporter": "python",
      "pygments_lexer": "ipython3",
      "version": "3.10.4"
    },
    "colab": {
      "provenance": []
    }
  },
  "nbformat": 4,
  "nbformat_minor": 0
}